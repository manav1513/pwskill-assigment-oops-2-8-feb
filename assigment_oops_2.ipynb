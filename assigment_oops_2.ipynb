{
 "cells": [
  {
   "cell_type": "code",
   "execution_count": 8,
   "id": "71c24a9a-92c0-435f-8423-e4fe87aa2b44",
   "metadata": {},
   "outputs": [
    {
     "name": "stdout",
     "output_type": "stream",
     "text": [
      "The mileage is 30kmph\n",
      "The mileage is 27kmph \n",
      "The mileage is 25kmph \n",
      "The mileage is 24kmph \n"
     ]
    }
   ],
   "source": [
    "# Q1. What is Abstraction in OOps? Explain with an example.\n",
    "# ans--Abstraction is the process of hiding the internal details of an application from the outer world. \n",
    "# Abstraction is used to describe things in simple terms. \n",
    "# It’s used to create a boundary between the application and the client programs.\n",
    "#  This is one of the core concepts of object-oriented programming (OOP) languages. \n",
    "#  That enables the user to implement even more complex logic on top of the provided abstraction without understanding\n",
    "#  or even thinking about all the hidden background/back-end complexity.\n",
    "# ex-\n",
    "from abc import ABC, abstractmethod   \n",
    "class Car(ABC):   \n",
    "    def mileage(self):   \n",
    "        pass  \n",
    "  \n",
    "class Tesla(Car):   \n",
    "    def mileage(self):   \n",
    "        print(\"The mileage is 30kmph\")   \n",
    "class Suzuki(Car):   \n",
    "    def mileage(self):   \n",
    "        print(\"The mileage is 25kmph \")   \n",
    "class Duster(Car):   \n",
    "     def mileage(self):   \n",
    "          print(\"The mileage is 24kmph \")   \n",
    "  \n",
    "class Renault(Car):   \n",
    "    def mileage(self):   \n",
    "            print(\"The mileage is 27kmph \")   \n",
    "          \n",
    "# Driver code   \n",
    "t= Tesla ()   \n",
    "t.mileage()   \n",
    "  \n",
    "r = Renault()   \n",
    "r.mileage()   \n",
    "  \n",
    "s = Suzuki()   \n",
    "s.mileage()   \n",
    "d = Duster()   \n",
    "d.mileage()  \n"
   ]
  },
  {
   "cell_type": "code",
   "execution_count": 7,
   "id": "3fd6c83c-ec4e-4d26-8126-5ff508ba1b62",
   "metadata": {},
   "outputs": [],
   "source": [
    "# Q2. Differentiate between Abstraction and Encapsulation. Explain with an example.\n",
    "# ans-Definition\n",
    "# Abstraction is hiding the details and implementation of the code.\n",
    "# Encapsulation is hiding the data and controlling the visibility of the code.\n",
    "# Phase\n",
    "# Abstraction is a design level process.\n",
    "# Encapsulation is an implementation level process.\n",
    "# Pivotal Ability\n",
    "# Abstraction is concerned about what a class instance can do, instead of the implementation of the class.\n",
    "# Encapsulation helps in data binding and control over maintaining the transparency of the data.\n",
    "# Use Case\n",
    "# Abstraction is a design level process and it is used to reduce the complexity at the designing stage of a project.\n",
    "# Encapsulation is an implementation level process, and it is used to provide privacy and maintain control over \n",
    "# the transparency of data at the implementation stage of a project."
   ]
  },
  {
   "cell_type": "code",
   "execution_count": 6,
   "id": "7dadc2a6-7028-4624-afb1-64ba0ad4bbe0",
   "metadata": {},
   "outputs": [],
   "source": [
    "# Q3. What is abc module in python? Why is it used?\n",
    "\n",
    "# ans = Abstract base classes provide a way to define interfaces when other techniques like hasattr() would \n",
    "# be clumsy or subtly wrong (for example with magic methods). ABCs introduce virtual subclasses,\n",
    "# which are classes that don’t inherit from a class but are still recognized by isinstance() and issubclass() functions.\n",
    "# There are many built-in ABCs in Python. ABCs for Data structures like Iterator, Generator, Set, mapping etc.\n",
    "# are defined in collections.abc module. The numbers module defines numeric tower which is a collection of base classes\n",
    "# for numeric data types. The 'abc' module in Python library provides the infrastructure for defining custom abstract base classes."
   ]
  },
  {
   "cell_type": "code",
   "execution_count": 5,
   "id": "72d23d9a-2566-4697-a57f-6451580547cd",
   "metadata": {},
   "outputs": [],
   "source": [
    "# Q4. How can we achieve data abstraction?\n",
    "# Data abstraction is the process of hiding the underlying complexity of data and presenting it in a simplified form that \n",
    "# is easier to understand and use. It can be achieved in several ways:\n",
    "\n",
    "# Abstraction Layers: Abstraction layers are a set of intermediate representations of data that hide the complexity of \n",
    "# the underlying data and present it in a simplified form. For example, an operating system provides an abstraction layer \n",
    "# between the hardware and the software, allowing software to interact with the hardware without requiring knowledge of the \n",
    "# underlying complexity.\n"
   ]
  },
  {
   "cell_type": "code",
   "execution_count": null,
   "id": "4c63fd12-0393-4c0d-87c0-a199b2d436a1",
   "metadata": {},
   "outputs": [],
   "source": [
    "# Q5. Can we create an instance of an abstract class? Explain your answer.\n",
    "\n",
    "# ans =  Abstract classes cannot be instantiated, but they can be subclassed. When an abstract class is subclassed, the subclass usually provides implementations for all of the abstract methods in its parent class. However, if it does not,\n",
    "# then the subclass must also be declared abstract ."
   ]
  }
 ],
 "metadata": {
  "kernelspec": {
   "display_name": "Python 3 (ipykernel)",
   "language": "python",
   "name": "python3"
  },
  "language_info": {
   "codemirror_mode": {
    "name": "ipython",
    "version": 3
   },
   "file_extension": ".py",
   "mimetype": "text/x-python",
   "name": "python",
   "nbconvert_exporter": "python",
   "pygments_lexer": "ipython3",
   "version": "3.10.8"
  }
 },
 "nbformat": 4,
 "nbformat_minor": 5
}
